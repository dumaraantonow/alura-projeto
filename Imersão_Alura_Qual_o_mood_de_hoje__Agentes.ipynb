{
  "nbformat": 4,
  "nbformat_minor": 0,
  "metadata": {
    "colab": {
      "provenance": []
    },
    "kernelspec": {
      "name": "python3",
      "display_name": "Python 3"
    },
    "language_info": {
      "name": "python"
    }
  },
  "cells": [
    {
      "cell_type": "code",
      "execution_count": 1,
      "metadata": {
        "id": "-ZLH86yydFzG"
      },
      "outputs": [],
      "source": [
        "#Usando a biblioteca do Python\n",
        "\n",
        "%pip -q install google-genai"
      ]
    },
    {
      "cell_type": "code",
      "source": [
        "# Configura a API Key do Google Gemini\n",
        "\n",
        "import os\n",
        "from google.colab import userdata\n",
        "os.environ[\"GOOGLE_API_KEY\"] = userdata.get('GOOGLE_API_KEY')"
      ],
      "metadata": {
        "id": "O-f1hFlUeNEB"
      },
      "execution_count": 2,
      "outputs": []
    },
    {
      "cell_type": "code",
      "source": [
        "# Configura o cliente da SDK do Gemini\n",
        "\n",
        "from google import genai\n",
        "client = genai.Client()\n",
        "modelo = \"gemini-2.5-flash\""
      ],
      "metadata": {
        "id": "FTUSdiJ-eZUS"
      },
      "execution_count": 3,
      "outputs": []
    },
    {
      "cell_type": "code",
      "source": [
        "# Instalar Framework de agentes do Google\n",
        "\n",
        "!pip install -q google-adk"
      ],
      "metadata": {
        "colab": {
          "base_uri": "https://localhost:8080/"
        },
        "id": "kIPpO-Y3gr1J",
        "outputId": "560dcd30-83dc-4f00-f856-15b8f3483ae7"
      },
      "execution_count": 4,
      "outputs": [
        {
          "output_type": "stream",
          "name": "stdout",
          "text": [
            "\u001b[?25l   \u001b[90m━━━━━━━━━━━━━━━━━━━━━━━━━━━━━━━━━━━━━━━━\u001b[0m \u001b[32m0.0/1.2 MB\u001b[0m \u001b[31m?\u001b[0m eta \u001b[36m-:--:--\u001b[0m\r\u001b[2K   \u001b[91m━━━━━━━━━━━━━━━━━━━━━━━━\u001b[0m\u001b[91m╸\u001b[0m\u001b[90m━━━━━━━━━━━━━━━\u001b[0m \u001b[32m0.7/1.2 MB\u001b[0m \u001b[31m21.7 MB/s\u001b[0m eta \u001b[36m0:00:01\u001b[0m\r\u001b[2K   \u001b[90m━━━━━━━━━━━━━━━━━━━━━━━━━━━━━━━━━━━━━━━━\u001b[0m \u001b[32m1.2/1.2 MB\u001b[0m \u001b[31m20.0 MB/s\u001b[0m eta \u001b[36m0:00:00\u001b[0m\n",
            "\u001b[?25h\u001b[?25l   \u001b[90m━━━━━━━━━━━━━━━━━━━━━━━━━━━━━━━━━━━━━━━━\u001b[0m \u001b[32m0.0/232.1 kB\u001b[0m \u001b[31m?\u001b[0m eta \u001b[36m-:--:--\u001b[0m\r\u001b[2K   \u001b[90m━━━━━━━━━━━━━━━━━━━━━━━━━━━━━━━━━━━━━━━━\u001b[0m \u001b[32m232.1/232.1 kB\u001b[0m \u001b[31m17.4 MB/s\u001b[0m eta \u001b[36m0:00:00\u001b[0m\n",
            "\u001b[2K   \u001b[90m━━━━━━━━━━━━━━━━━━━━━━━━━━━━━━━━━━━━━━━━\u001b[0m \u001b[32m95.2/95.2 kB\u001b[0m \u001b[31m6.4 MB/s\u001b[0m eta \u001b[36m0:00:00\u001b[0m\n",
            "\u001b[2K   \u001b[90m━━━━━━━━━━━━━━━━━━━━━━━━━━━━━━━━━━━━━━━━\u001b[0m \u001b[32m217.1/217.1 kB\u001b[0m \u001b[31m15.7 MB/s\u001b[0m eta \u001b[36m0:00:00\u001b[0m\n",
            "\u001b[2K   \u001b[90m━━━━━━━━━━━━━━━━━━━━━━━━━━━━━━━━━━━━━━━━\u001b[0m \u001b[32m334.1/334.1 kB\u001b[0m \u001b[31m24.0 MB/s\u001b[0m eta \u001b[36m0:00:00\u001b[0m\n",
            "\u001b[2K   \u001b[90m━━━━━━━━━━━━━━━━━━━━━━━━━━━━━━━━━━━━━━━━\u001b[0m \u001b[32m125.1/125.1 kB\u001b[0m \u001b[31m9.6 MB/s\u001b[0m eta \u001b[36m0:00:00\u001b[0m\n",
            "\u001b[2K   \u001b[90m━━━━━━━━━━━━━━━━━━━━━━━━━━━━━━━━━━━━━━━━\u001b[0m \u001b[32m65.8/65.8 kB\u001b[0m \u001b[31m4.6 MB/s\u001b[0m eta \u001b[36m0:00:00\u001b[0m\n",
            "\u001b[2K   \u001b[90m━━━━━━━━━━━━━━━━━━━━━━━━━━━━━━━━━━━━━━━━\u001b[0m \u001b[32m119.0/119.0 kB\u001b[0m \u001b[31m8.7 MB/s\u001b[0m eta \u001b[36m0:00:00\u001b[0m\n",
            "\u001b[2K   \u001b[90m━━━━━━━━━━━━━━━━━━━━━━━━━━━━━━━━━━━━━━━━\u001b[0m \u001b[32m194.9/194.9 kB\u001b[0m \u001b[31m14.3 MB/s\u001b[0m eta \u001b[36m0:00:00\u001b[0m\n",
            "\u001b[2K   \u001b[90m━━━━━━━━━━━━━━━━━━━━━━━━━━━━━━━━━━━━━━━━\u001b[0m \u001b[32m62.5/62.5 kB\u001b[0m \u001b[31m3.4 MB/s\u001b[0m eta \u001b[36m0:00:00\u001b[0m\n",
            "\u001b[2K   \u001b[90m━━━━━━━━━━━━━━━━━━━━━━━━━━━━━━━━━━━━━━━━\u001b[0m \u001b[32m103.3/103.3 kB\u001b[0m \u001b[31m7.3 MB/s\u001b[0m eta \u001b[36m0:00:00\u001b[0m\n",
            "\u001b[2K   \u001b[90m━━━━━━━━━━━━━━━━━━━━━━━━━━━━━━━━━━━━━━━━\u001b[0m \u001b[32m44.4/44.4 kB\u001b[0m \u001b[31m3.0 MB/s\u001b[0m eta \u001b[36m0:00:00\u001b[0m\n",
            "\u001b[2K   \u001b[90m━━━━━━━━━━━━━━━━━━━━━━━━━━━━━━━━━━━━━━━━\u001b[0m \u001b[32m72.0/72.0 kB\u001b[0m \u001b[31m5.0 MB/s\u001b[0m eta \u001b[36m0:00:00\u001b[0m\n",
            "\u001b[?25h"
          ]
        }
      ]
    },
    {
      "cell_type": "code",
      "source": [
        "from google.adk.agents import Agent # Agente\n",
        "from google.adk.runners import Runner # Orquestrador/Coordenador\n",
        "from google.adk.sessions import InMemorySessionService # Memória interna do orquestrador\n",
        "from google.adk.tools import google_search # Ferramenta do Google Search (para poder pesquisar)\n",
        "from google.genai import types  # Para criar conteúdos (Content e Part) / fazer as configurações\n",
        "from datetime import date\n",
        "import textwrap # Para formatar melhor a saída de texto\n",
        "from IPython.display import display, Markdown # Para exibir texto formatado no Colab\n",
        "import requests # Para fazer requisições HTTP\n",
        "import warnings\n",
        "\n",
        "warnings.filterwarnings(\"ignore\")"
      ],
      "metadata": {
        "id": "fsy_4wXOgyL2"
      },
      "execution_count": 5,
      "outputs": []
    },
    {
      "cell_type": "code",
      "source": [
        "# Função auxiliar que envia uma mensagem para um agente via Runner e retorna a resposta final\n",
        "def call_agent(agent: Agent, message_text: str) -> str:\n",
        "    # Cria um serviço de sessão em memória\n",
        "    session_service = InMemorySessionService()\n",
        "    # Cria uma nova sessão (você pode personalizar os IDs conforme necessário)\n",
        "    session = session_service.create_session(app_name=agent.name, user_id=\"user1\", session_id=\"session1\")\n",
        "    # Cria um Runner para o agente\n",
        "    runner = Runner(agent=agent, app_name=agent.name, session_service=session_service)\n",
        "    # Cria o conteúdo da mensagem de entrada\n",
        "    content = types.Content(role=\"user\", parts=[types.Part(text=message_text)])\n",
        "\n",
        "    final_response = \"\"\n",
        "    # Itera assincronamente pelos eventos retornados durante a execução do agente\n",
        "    for event in runner.run(user_id=\"user1\", session_id=\"session1\", new_message=content):\n",
        "        if event.is_final_response():\n",
        "          for part in event.content.parts:\n",
        "            if part.text is not None:\n",
        "              final_response += part.text\n",
        "              final_response += \"\\n\"\n",
        "    return final_response"
      ],
      "metadata": {
        "id": "llm3n-Lzhvf0"
      },
      "execution_count": 6,
      "outputs": []
    },
    {
      "cell_type": "code",
      "source": [
        "# Função auxiliar para exibir texto formatado em Markdown no Colab\n",
        "def to_markdown(text):\n",
        "  text = text.replace('•', '  *')\n",
        "  return Markdown(textwrap.indent(text, '> ', predicate=lambda _: True))"
      ],
      "metadata": {
        "id": "blaHoqknh3L0"
      },
      "execution_count": 7,
      "outputs": []
    },
    {
      "cell_type": "code",
      "source": [
        "####################################################\n",
        "# --- Agente 1: Referencia Musical do Usuário --- #\n",
        "####################################################\n",
        "def agente_referencial (info_usuario):\n",
        "  referencial = Agent(\n",
        "      name=\"agente_referencial\",\n",
        "      model=\"gemini-2.0-flash\",\n",
        "      description=\"Agente inteligente que coleta suas preferências musicais habituais e seu humor atual para encontrar playlists perfeitas no YouTube.\",\n",
        "      instruction=\"\"\"\n",
        "      Você é um Agente de Recomendação Musical Personalizada. Sua tarefa é interagir com o usuário para entender tanto suas preferências\n",
        "      musicais habituais quanto seu estado de espírito atual, a fim de encontrar playlists relevantes no YouTube. Primeiramente,\n",
        "      pergunte sobre os gêneros musicais, artistas ou músicas que o usuário costuma gostar ou ouvir com frequência. Incentive-o\n",
        "      a compartilhar exemplos e, se possível, mencionar playlists que ele aprecia. Em seguida, pergunte sobre o humor ou sentimento\n",
        "      que ele está experimentando no momento (por exemplo: feliz, relaxado, agitado, nostálgico, etc.). Com base nas informações\n",
        "      fornecidas sobre suas preferências musicais e seu estado de espírito, você deverá construir uma linha de raciocínio para\n",
        "      conectar esses dois aspectos. Use a ferramenta de busca do Google (google_search) com foco no site youtube.com para pesquisar\n",
        "      artistas, gêneros, playlists e como o humor pode influenciar a preferência musical. Sua resposta final deve apresentar\n",
        "      uma análise concisa das preferências musicais e do humor do usuário, juntamente com sugestões de artistas, músicas ou\n",
        "      playlists relevantes que combinem ambos os aspectos, prontas para serem pesquisadas no YouTube.\n",
        "      \"\"\",\n",
        "      tools=[google_search]\n",
        "  )\n",
        "  entrada_do_agente_referencial = f\"\"\"\n",
        "  Informações do usuário:\n",
        "  Estilo musical desejado: {info_usuario.get('pergunta_1', '')}\n",
        "  Humor atual: {info_usuario.get('pergunta_2', '')}\n",
        "  Artistas/bandas que combinam com o humor: {info_usuario.get('pergunta_3', '')}\n",
        "  Música recente marcante: {info_usuario.get('pergunta_4', '')}\n",
        "  Vibe musical procurada: {info_usuario.get('pergunta_5', '')}\n",
        "  \"\"\"\n",
        "  resultados = call_agent(referencial, entrada_do_agente_referencial)\n",
        "  return resultados\n"
      ],
      "metadata": {
        "id": "MP83PF4tKq62"
      },
      "execution_count": 49,
      "outputs": []
    },
    {
      "cell_type": "code",
      "source": [
        "##########################################\n",
        "# --- Agente 2: Buscador de Playlists --- #\n",
        "##########################################\n",
        "def agente_buscador(info_usuario, resultados_referencial):\n",
        "    buscador = Agent(\n",
        "        name=\"agente_buscador\",\n",
        "        model=\"gemini-2.0-flash\",\n",
        "        instruction=\"\"\"\n",
        "        Você é um Agente de Busca de Playlists Musicais no YouTube. Sua tarefa é utilizar a ferramenta de busca do\n",
        "        Google (google_search) com foco exclusivo no domínio youtube.com para encontrar as playlists mais relevantes\n",
        "        para o usuário, com base nas informações fornecidas sobre suas preferências musicais e seu estado de espírito, conforme análise do Agente Referencial:\n",
        "\n",
        "\n",
        "        E nas informações diretas do usuário:\n",
        "        Estilo musical desejado:\n",
        "        Humor atual:\n",
        "        Artistas/bandas que combinam com o humor:\n",
        "        Música recente marcante:\n",
        "        Vibe musical procurada:\n",
        "\n",
        "        Com base nessas informações, procure no YouTube por no máximo 5 playlists que correspondam aos critérios do usuário. Priorize playlists com boa quantidade de músicas (pelo menos 10) e que\n",
        "        explorem artistas similares ou relacionados, fugindo um pouco do que o usuário já costuma ouvir, mas mantendo a relevância com seu gosto e humor.\n",
        "\n",
        "        Sua resposta deve ser uma lista clara de no máximo 5 playlists, incluindo o link direto para cada uma delas.\n",
        "        \"\"\",\n",
        "        description=\"Encontra as melhores playlists no YouTube, combinando seu gosto musical e humor, com foco em novidades e variedade.\",\n",
        "        tools=[google_search]\n",
        "    )\n",
        "\n",
        "    entrada_do_agente_buscador = f\"\"\"\n",
        "    Análise do Agente Referencial: {resultados_referencial}\n",
        "    Estilo musical desejado: {info_usuario.get('pergunta_1', '')}\n",
        "    Humor atual: {info_usuario.get('pergunta_2', '')}\n",
        "    Artistas/bandas que combinam com o humor: {info_usuario.get('pergunta_3', '')}\n",
        "    Música recente marcante: {info_usuario.get('pergunta_4', '')}\n",
        "    Vibe musical procurada: {info_usuario.get('pergunta_5', '')}\n",
        "    \"\"\"\n",
        "\n",
        "    playlists_encontradas = call_agent(buscador, entrada_do_agente_buscador)\n",
        "    return playlists_encontradas"
      ],
      "metadata": {
        "id": "ndboS_GSxy8u"
      },
      "execution_count": 60,
      "outputs": []
    },
    {
      "cell_type": "code",
      "source": [
        "##########################################\n",
        "# --- Agente 3: Revisor de Qualidade --- #\n",
        "##########################################\n",
        "def agente_revisor(info_usuario, playlists_encontradas, resultados_referencial):\n",
        "    revisor = Agent(\n",
        "        name=\"agente_revisor\",\n",
        "        model=\"gemini-2.0-flash\",\n",
        "        instruction=\"\"\"\n",
        "        Você é um Editor e Revisor de Conteúdo especializado em música e profundo conhecedor da plataforma YouTube.\n",
        "        Sua tarefa é avaliar criticamente as playlists fornecidas pelo Agente Buscador, garantindo a máxima compatibilidade\n",
        "        com o estado emocional (\"vibe\") e as preferências musicais (gostos pessoais) previamente expressas pelo usuário.\n",
        "\n",
        "        Com base na análise do Agente Referencial:\n",
        "\n",
        "\n",
        "        E nas informações diretas do usuário:\n",
        "        Estilo musical desejado:\n",
        "        Humor atual:\n",
        "        Artistas/bandas que combinam com o humor:\n",
        "        Música recente marcante:\n",
        "        Vibe musical procurada:\n",
        "\n",
        "        Playlists encontradas pelo Agente Buscador:\n",
        "\n",
        "\n",
        "        Analise cada playlist individualmente, considerando os seguintes aspectos: Coerência com o Humor: As músicas e o clima\n",
        "        geral da playlist refletem o estado de espírito atual do usuário? Há faixas que destoam significativamente da \"vibe\" indicada?\n",
        "        Alinhamento com as Preferências: A seleção de artistas e gêneros na playlist corresponde aos gostos musicais habituais do\n",
        "        usuário? Mesmo explorando artistas relacionados, a playlist mantém uma conexão clara com suas preferências?\n",
        "        Qualidade Geral: A playlist parece bem curada? As músicas fluem bem juntas? Há alguma repetição excessiva de artistas ou faixas?\n",
        "\n",
        "        Se todas as playlists atenderem satisfatoriamente aos critérios de compatibilidade e qualidade, sua resposta deve ser concisa:\n",
        "        \"As playlists estão ótimas!\". Caso encontre problemas em alguma playlist, seja específico ao apontá-los e sugira melhorias\n",
        "        concretas. Por exemplo, você pode sugerir a remoção de faixas que não se encaixam no humor, a inclusão de artistas mais alinhados\n",
        "        às preferências, ou a busca por playlists com uma curadoria mais apurada.\n",
        "        \"\"\",\n",
        "        description=\"Garante que as playlists recomendadas no YouTube correspondam perfeitamente ao seu humor e gosto musical, oferecendo apenas o melhor.\",\n",
        "        tools=[google_search]\n",
        "    )\n",
        "\n",
        "    entrada_do_agente_revisor = f\"\"\"\n",
        "    Análise do Agente Referencial: {resultados_referencial}\n",
        "    Estilo musical desejado: {info_usuario.get('pergunta_1', '')}\n",
        "    Humor atual: {info_usuario.get('pergunta_2', '')}\n",
        "    Artistas/bandas que combinam com o humor: {info_usuario.get('pergunta_3', '')}\n",
        "    Música recente marcante: {info_usuario.get('pergunta_4', '')}\n",
        "    Vibe musical procurada: {info_usuario.get('pergunta_5', '')}\n",
        "    Playlists encontradas: {playlists_encontradas}\n",
        "    \"\"\"\n",
        "\n",
        "    playlists_revisadas = call_agent(revisor, entrada_do_agente_revisor)\n",
        "    return playlists_revisadas"
      ],
      "metadata": {
        "id": "4V18Pyg630ZG"
      },
      "execution_count": 61,
      "outputs": []
    },
    {
      "cell_type": "code",
      "source": [
        "print(\"Não sabe que musicas ouvir hoje? Vem que esses 3 agentes vão lhe ajudar! 🎶 😊 \")\n",
        "print(\"\\n\")\n",
        "print(\"Primeiramente: precisamos conhecer um pouco sobre você e o que voce gosta de ouvir!\")\n",
        "print(\"\\n\")\n",
        "\n",
        "# --- Obter as Referências Musicais e Humor do Usuário ---\n",
        "info_usuario = {}\n",
        "cont = 0\n",
        "num_perguntas = 5\n",
        "\n",
        "perguntas_usuario = [\n",
        "    \"Qual estilo ou gênero musical você está com mais vontade de ouvir agora?\",\n",
        "    \"Como você está se sentindo neste momento? (ex: feliz, relaxado, agitado, nostálgico...)\",\n",
        "    \"Pensando em artistas ou bandas que você gosta, algum deles combina com o seu humor de hoje?\",\n",
        "    \"Tem alguma música que você ouviu recentemente que te marcou ou que reflete como você está se sentindo?\",\n",
        "    \"Além dos seus gostos habituais, existe algum tipo de 'vibe' musical específica que você procura para hoje?\"\n",
        "]\n",
        "\n",
        "# Criando um chat bot curto para o primeiro agente ter as informações que precisa\n",
        "while cont < num_perguntas:\n",
        "    resposta = input(f\"{perguntas_usuario[cont]} \")\n",
        "    info_usuario[f\"pergunta_{cont+1}\"] = resposta\n",
        "    cont += 1\n",
        "\n",
        "print(\"\\nObrigado pelas informações!\")\n",
        "print(\"Suas respostas:\", info_usuario)\n",
        "print(\"\\n\")\n",
        "\n",
        "# --- Próximos passos (envio para os agentes) ---"
      ],
      "metadata": {
        "colab": {
          "base_uri": "https://localhost:8080/"
        },
        "id": "pn4pRfmT5luG",
        "outputId": "1fb7cccf-73a7-4044-a1e0-9070e3f018c6"
      },
      "execution_count": 11,
      "outputs": [
        {
          "output_type": "stream",
          "name": "stdout",
          "text": [
            "Não sabe que musicas ouvir hoje? Vem que esses 3 agentes vão lhe ajudar! 🎶 😊 \n",
            "\n",
            "\n",
            "Primeiramente: precisamos conhecer um pouco sobre você e o que voce gosta de ouvir!\n",
            "\n",
            "\n",
            "Qual estilo ou gênero musical você está com mais vontade de ouvir agora? talvez um pop, funk, eletronico.... quero algo animado hoje\n",
            "Como você está se sentindo neste momento? (ex: feliz, relaxado, agitado, nostálgico...) to feliz, animada, mas não agitada demais\n",
            "Pensando em artistas ou bandas que você gosta, algum deles combina com o seu humor de hoje? lady gaga, rihanna, ariana grande\n",
            "Tem alguma música que você ouviu recentemente que te marcou ou que reflete como você está se sentindo? vanish into you da lady gaga\n",
            "Além dos seus gostos habituais, existe algum tipo de 'vibe' musical específica que você procura para hoje? não sei, me surpreenda. quero ouvir coisas novas\n",
            "\n",
            "Obrigado pelas informações!\n",
            "Suas respostas: {'pergunta_1': 'talvez um pop, funk, eletronico.... quero algo animado hoje', 'pergunta_2': 'to feliz, animada, mas não agitada demais', 'pergunta_3': 'lady gaga, rihanna, ariana grande', 'pergunta_4': 'vanish into you da lady gaga', 'pergunta_5': 'não sei, me surpreenda. quero ouvir coisas novas'}\n",
            "\n",
            "\n"
          ]
        }
      ]
    },
    {
      "cell_type": "code",
      "source": [
        "# --- Próximos passos (envio para os agentes) ---\n",
        "\n",
        "# --- Executar os agentes ---\n",
        "\n",
        "print(f\"Maravilha! Vamos agora descobrir suas playlists!\")\n",
        "\n",
        "\n",
        "resultados_referencial = agente_referencial(info_usuario)\n",
        "print(\"\\n--- 📝 Resultado do Agente 1 (Referencial) ---\\n\")\n",
        "display(to_markdown(resultados_referencial))\n",
        "print(\"--------------------------------------------------------------\")\n",
        "\n",
        "\n",
        "playlists_encontradas = agente_buscador(info_usuario, resultados_referencial)\n",
        "print(\"\\n--- 📝 Resultado do Agente 2 (Buscador) ---\\n\")\n",
        "display(to_markdown(playlists_encontradas))\n",
        "print(\"--------------------------------------------------------------\")\n",
        "\n",
        "\n",
        "post_final = agente_revisor(info_usuario, playlists_encontradas, resultados_referencial)\n",
        "print(\"\\n--- 📝 Resultado do Agente 3 (Revisor) ---\\n\")\n",
        "display(to_markdown(post_final))\n",
        "print(\"--------------------------------------------------------------\")"
      ],
      "metadata": {
        "colab": {
          "base_uri": "https://localhost:8080/",
          "height": 1000
        },
        "id": "Bf6AWo-DtNdZ",
        "outputId": "457ee921-d290-49dc-be96-2b81cc1cfd9b"
      },
      "execution_count": 62,
      "outputs": [
        {
          "output_type": "stream",
          "name": "stdout",
          "text": [
            "Maravilha! Vamos agora descobrir suas playlists!\n",
            "\n",
            "--- 📝 Resultado do Agente 1 (Referencial) ---\n",
            "\n"
          ]
        },
        {
          "output_type": "display_data",
          "data": {
            "text/plain": [
              "<IPython.core.display.Markdown object>"
            ],
            "text/markdown": "> Olá! Que bom que você está se sentindo feliz e animada! Adoro a Lady Gaga, Rihanna e Ariana Grande, ótimas escolhas para um dia como hoje. \"Vanish Into You\" é um hino!\n> \n> Para te surpreender com algo novo, vou usar suas preferências (pop, funk, eletrônico animado e Lady Gaga, Rihanna, Ariana Grande) e seu estado de espírito (feliz, animada, mas não agitada demais) para encontrar algumas playlists no YouTube que você possa gostar.\n> \n> Vou pesquisar no YouTube por playlists que combinem esses elementos. Aqui estão algumas opções que acredito que você vai gostar:\n> \n> \n> Com base nas suas preferências e humor, encontrei algumas opções que podem te agradar no YouTube:\n> \n> *   **Playlists com hits de Lady Gaga, Rihanna e Ariana Grande:** Remixes e mashups que misturam os maiores sucessos dessas artistas.\n> *   **Playlists de Pop/Eletrônico:** Busque por playlists com \"pop animado\" ou \"eletrônico dançante\" para descobrir novas músicas e artistas dentro desses gêneros.\n> *   **Playlist com vibe positiva:** Uma playlist com músicas alto astral para melhorar o seu dia.\n> *   **Músicas para levantar o astral:** Para incentivar, trabalhar, estudar e ser feliz.\n> \n> Espero que essas sugestões te ajudem a encontrar algo novo e animado para ouvir!\n"
          },
          "metadata": {}
        },
        {
          "output_type": "stream",
          "name": "stdout",
          "text": [
            "--------------------------------------------------------------\n",
            "\n",
            "--- 📝 Resultado do Agente 2 (Buscador) ---\n",
            "\n"
          ]
        },
        {
          "output_type": "display_data",
          "data": {
            "text/plain": [
              "<IPython.core.display.Markdown object>"
            ],
            "text/markdown": "> Com certeza! Para te surpreender e te apresentar coisas novas, vou buscar no YouTube playlists que combinem pop, funk, eletrônico animado, com a vibe da Lady Gaga, Rihanna e Ariana Grande, mas que também te mostrem artistas e músicas diferentes.\n> \n> \n> Com base nas suas preferências e no seu estado de espírito, preparei uma lista de playlists no YouTube que podem te surpreender e te animar:\n> \n> 1.  **Pop Funk 2025 | As Mais Animadas Para Dançar:** Uma playlist com os hits mais animados de Pop Funk para você dançar e se divertir.\n>     *   [https://www.youtube.com/playlist?list=PLB3LPm8qQ70S-YTvG85G8LPK3K9-q7育](https://www.youtube.com/playlist?list=PLB3LPm8qQ70S-YTvG85G8LPK3K9-q7%E8%82%B2)\n> 2.  **FUNK COM ELETRÔNICA:** Essa playlist mistura o ritmo contagiante do funk com a batida envolvente da música eletrônica, criando uma experiência sonora única e perfeita para dançar.\n>     *   [https://www.youtube.com/playlist?list=PLw6oYMyDP8HRzxSjF8kWF3VSmF9GvCqR](https://www.youtube.com/playlist?list=PLw6oYMyDP8HRzxSjF8kWF3VSmF9GvCqR)\n> 3.  **MÚSICA ELETRÔNICA ANIMADA:** Uma seleção de músicas eletrônicas animadas com vocais e letras positivas, perfeitas para dançar, relaxar, estudar, malhar ou correr.\n>     *   [https://www.youtube.com/playlist?list=PLXfSnKj6d-nlh5N-QIx4DzEgSu5mE-vCr](https://www.youtube.com/playlist?list=PLXfSnKj6d-nlh5N-QIx4DzEgSu5mE-vCr)\n> 4.  **Playlists de Músicas Alto-Astral - Vibe Positiva | Filtr Music Brasil:** Essa playlist da Filtr Music Brasil traz mais de duas horas de músicas \"good vibes\" e alto astral para melhorar o seu dia.\n>     *   [https://www.youtube.com/watch?v=ODzzVwKtZpw](https://www.youtube.com/watch?v=ODzzVwKtZpw)\n> 5.  **Ariana Grande Mashups:** Playlist com 41 videos com Mashups da Ariana Grande.\n>     *   [https://www.youtube.com/playlist?list=PLoK4bK0Jp_0baBWJlu9yCjQclEEVDXJml](https://www.youtube.com/playlist?list=PLoK4bK0Jp_0baBWJlu9yCjQclEEVDXJml)\n> \n> Espero que você curta bastante essas playlists e descubra novas músicas e artistas que te inspirem e te façam sentir ainda mais feliz e animada!\n> \n"
          },
          "metadata": {}
        },
        {
          "output_type": "stream",
          "name": "stdout",
          "text": [
            "--------------------------------------------------------------\n",
            "\n",
            "--- 📝 Resultado do Agente 3 (Revisor) ---\n",
            "\n"
          ]
        },
        {
          "output_type": "display_data",
          "data": {
            "text/plain": [
              "<IPython.core.display.Markdown object>"
            ],
            "text/markdown": "> As playlists estão ótimas! A combinação de pop, funk e eletrônico animado, juntamente com a inclusão de mashups da Ariana Grande, atende bem ao seu gosto musical e ao seu estado de espírito. As playlists de \"Música Eletrônica Animada\" e \"Vibe Positiva\" também parecem adequadas para manter o clima animado, mas não agitado demais, que você busca.\n"
          },
          "metadata": {}
        },
        {
          "output_type": "stream",
          "name": "stdout",
          "text": [
            "--------------------------------------------------------------\n"
          ]
        }
      ]
    }
  ]
}